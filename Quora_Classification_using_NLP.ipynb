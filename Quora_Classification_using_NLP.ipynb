{
  "nbformat": 4,
  "nbformat_minor": 0,
  "metadata": {
    "colab": {
      "name": "Quora Classification using NLP.ipynb",
      "provenance": [],
      "collapsed_sections": [],
      "mount_file_id": "1E4xIyYQXjXugPvkoG6H6HIYo0LDxs3dT",
      "authorship_tag": "ABX9TyPCmwzb+4v+BbkAMx3YvMFZ",
      "include_colab_link": true
    },
    "kernelspec": {
      "name": "python3",
      "display_name": "Python 3"
    },
    "accelerator": "GPU"
  },
  "cells": [
    {
      "cell_type": "markdown",
      "metadata": {
        "id": "view-in-github",
        "colab_type": "text"
      },
      "source": [
        "<a href=\"https://colab.research.google.com/github/adibhattar95/Quora-Question-Classification/blob/master/Quora_Classification_using_NLP.ipynb\" target=\"_parent\"><img src=\"https://colab.research.google.com/assets/colab-badge.svg\" alt=\"Open In Colab\"/></a>"
      ]
    },
    {
      "cell_type": "markdown",
      "metadata": {
        "id": "R2E_i8vIHRjL",
        "colab_type": "text"
      },
      "source": [
        "#Import dataset for training"
      ]
    },
    {
      "cell_type": "code",
      "metadata": {
        "id": "gPxyKBXjMpjz",
        "colab_type": "code",
        "outputId": "5b4317ac-056d-47a1-f1c5-30f7419b1c02",
        "colab": {
          "base_uri": "https://localhost:8080/",
          "height": 121
        }
      },
      "source": [
        "from google.colab import drive\n",
        "drive.mount('/content/drive')"
      ],
      "execution_count": 0,
      "outputs": [
        {
          "output_type": "stream",
          "text": [
            "Go to this URL in a browser: https://accounts.google.com/o/oauth2/auth?client_id=947318989803-6bn6qk8qdgf4n4g3pfee6491hc0brc4i.apps.googleusercontent.com&redirect_uri=urn%3aietf%3awg%3aoauth%3a2.0%3aoob&response_type=code&scope=email%20https%3a%2f%2fwww.googleapis.com%2fauth%2fdocs.test%20https%3a%2f%2fwww.googleapis.com%2fauth%2fdrive%20https%3a%2f%2fwww.googleapis.com%2fauth%2fdrive.photos.readonly%20https%3a%2f%2fwww.googleapis.com%2fauth%2fpeopleapi.readonly\n",
            "\n",
            "Enter your authorization code:\n",
            "··········\n",
            "Mounted at /content/drive\n"
          ],
          "name": "stdout"
        }
      ]
    },
    {
      "cell_type": "markdown",
      "metadata": {
        "id": "2RkcXb9QHyt0",
        "colab_type": "text"
      },
      "source": [
        "#Import Libraries"
      ]
    },
    {
      "cell_type": "code",
      "metadata": {
        "id": "R_23V68YH7o-",
        "colab_type": "code",
        "outputId": "12b16c59-c98b-47a3-ec3a-214330baa147",
        "colab": {
          "base_uri": "https://localhost:8080/",
          "height": 70
        }
      },
      "source": [
        "import pandas as pd\n",
        "import numpy as np\n",
        "import tensorflow as tf\n",
        "from sklearn.model_selection import train_test_split as tts\n",
        "from sklearn.metrics import classification_report\n",
        "import matplotlib.pyplot as plt\n",
        "import seaborn as sns\n",
        "import warnings\n",
        "warnings.filterwarnings('ignore')\n",
        "from tqdm import tqdm\n",
        "from gensim.models import KeyedVectors\n",
        "import operator\n",
        "import re\n",
        "from tensorflow.keras.preprocessing import sequence\n",
        "from tensorflow.keras.models import Sequential\n",
        "from tensorflow.keras.layers import Dense, Embedding\n",
        "from tensorflow.keras.layers import LSTM\n",
        "from tensorflow.keras.utils import to_categorical\n",
        "from tensorflow.keras.preprocessing.text import Tokenizer\n",
        "from tensorflow.keras.preprocessing.sequence import pad_sequences"
      ],
      "execution_count": 1,
      "outputs": [
        {
          "output_type": "stream",
          "text": [
            "/usr/local/lib/python3.6/dist-packages/statsmodels/tools/_testing.py:19: FutureWarning: pandas.util.testing is deprecated. Use the functions in the public API at pandas.testing instead.\n",
            "  import pandas.util.testing as tm\n"
          ],
          "name": "stderr"
        }
      ]
    },
    {
      "cell_type": "markdown",
      "metadata": {
        "id": "b-YX3hv5O6gZ",
        "colab_type": "text"
      },
      "source": [
        "#Load and view dataset"
      ]
    },
    {
      "cell_type": "code",
      "metadata": {
        "id": "0krK2v5RP9nF",
        "colab_type": "code",
        "outputId": "b57beb0d-b4b2-4b80-a323-b80c96e93f2a",
        "colab": {
          "base_uri": "https://localhost:8080/",
          "height": 195
        }
      },
      "source": [
        "df = pd.read_csv('/content/drive/My Drive/train_sample.csv')\n",
        "df.head()"
      ],
      "execution_count": 2,
      "outputs": [
        {
          "output_type": "execute_result",
          "data": {
            "text/html": [
              "<div>\n",
              "<style scoped>\n",
              "    .dataframe tbody tr th:only-of-type {\n",
              "        vertical-align: middle;\n",
              "    }\n",
              "\n",
              "    .dataframe tbody tr th {\n",
              "        vertical-align: top;\n",
              "    }\n",
              "\n",
              "    .dataframe thead th {\n",
              "        text-align: right;\n",
              "    }\n",
              "</style>\n",
              "<table border=\"1\" class=\"dataframe\">\n",
              "  <thead>\n",
              "    <tr style=\"text-align: right;\">\n",
              "      <th></th>\n",
              "      <th>qid</th>\n",
              "      <th>question_text</th>\n",
              "      <th>target</th>\n",
              "    </tr>\n",
              "  </thead>\n",
              "  <tbody>\n",
              "    <tr>\n",
              "      <th>0</th>\n",
              "      <td>4.67916E+17</td>\n",
              "      <td>What are some tips for converting seconds sinc...</td>\n",
              "      <td>0</td>\n",
              "    </tr>\n",
              "    <tr>\n",
              "      <th>1</th>\n",
              "      <td>5.32726E+17</td>\n",
              "      <td>Why does my most upvoted answer not appear on ...</td>\n",
              "      <td>0</td>\n",
              "    </tr>\n",
              "    <tr>\n",
              "      <th>2</th>\n",
              "      <td>6.00031E+17</td>\n",
              "      <td>Which one ia better career option icwai with l...</td>\n",
              "      <td>0</td>\n",
              "    </tr>\n",
              "    <tr>\n",
              "      <th>3</th>\n",
              "      <td>6.94202E+17</td>\n",
              "      <td>What macro-molecules would ATP be used in its ...</td>\n",
              "      <td>0</td>\n",
              "    </tr>\n",
              "    <tr>\n",
              "      <th>4</th>\n",
              "      <td>1.08073E+18</td>\n",
              "      <td>What does \"he has a magic range of about 100 m...</td>\n",
              "      <td>0</td>\n",
              "    </tr>\n",
              "  </tbody>\n",
              "</table>\n",
              "</div>"
            ],
            "text/plain": [
              "           qid                                      question_text  target\n",
              "0  4.67916E+17  What are some tips for converting seconds sinc...       0\n",
              "1  5.32726E+17  Why does my most upvoted answer not appear on ...       0\n",
              "2  6.00031E+17  Which one ia better career option icwai with l...       0\n",
              "3  6.94202E+17  What macro-molecules would ATP be used in its ...       0\n",
              "4  1.08073E+18  What does \"he has a magic range of about 100 m...       0"
            ]
          },
          "metadata": {
            "tags": []
          },
          "execution_count": 2
        }
      ]
    },
    {
      "cell_type": "markdown",
      "metadata": {
        "id": "koPnEsgJQB9Q",
        "colab_type": "text"
      },
      "source": [
        "#View shape of dataset"
      ]
    },
    {
      "cell_type": "code",
      "metadata": {
        "id": "2WPxLUgqQEfq",
        "colab_type": "code",
        "outputId": "fb28460f-e526-4cd4-a080-2a4cc851e1e2",
        "colab": {
          "base_uri": "https://localhost:8080/",
          "height": 34
        }
      },
      "source": [
        "df.shape"
      ],
      "execution_count": 3,
      "outputs": [
        {
          "output_type": "execute_result",
          "data": {
            "text/plain": [
              "(187105, 3)"
            ]
          },
          "metadata": {
            "tags": []
          },
          "execution_count": 3
        }
      ]
    },
    {
      "cell_type": "code",
      "metadata": {
        "id": "BkXa-IDzQGSr",
        "colab_type": "code",
        "outputId": "53c4b1a1-784f-41d2-e846-628d549f5ebb",
        "colab": {
          "base_uri": "https://localhost:8080/",
          "height": 67
        }
      },
      "source": [
        "#View count of Y (Target column)\n",
        "df['target'].value_counts()"
      ],
      "execution_count": 4,
      "outputs": [
        {
          "output_type": "execute_result",
          "data": {
            "text/plain": [
              "0    122331\n",
              "1     64774\n",
              "Name: target, dtype: int64"
            ]
          },
          "metadata": {
            "tags": []
          },
          "execution_count": 4
        }
      ]
    },
    {
      "cell_type": "code",
      "metadata": {
        "id": "5exBQffvQXiz",
        "colab_type": "code",
        "outputId": "39f539e9-5fdb-4739-b464-79242f2fe7bc",
        "colab": {
          "base_uri": "https://localhost:8080/",
          "height": 621
        }
      },
      "source": [
        "#View countplot of target column\n",
        "plt.figure(figsize = (10, 10))\n",
        "sns.countplot(df['target'])\n",
        "plt.title('Distribution of target variable')\n",
        "plt.show()"
      ],
      "execution_count": 5,
      "outputs": [
        {
          "output_type": "display_data",
          "data": {
            "image/png": "[encoded data removed]",
            "text/plain": [
              "<Figure size 720x720 with 1 Axes>"
            ]
          },
          "metadata": {
            "tags": [],
            "needs_background": "light"
          }
        }
      ]
    },
    {
      "cell_type": "markdown",
      "metadata": {
        "id": "RvTqXZWaQkD6",
        "colab_type": "text"
      },
      "source": [
        "#Extract first word of every question"
      ]
    },
    {
      "cell_type": "code",
      "metadata": {
        "id": "e4_Ch3B0RB4w",
        "colab_type": "code",
        "outputId": "0f8f4ad6-9460-422e-a8c9-816a3059361d",
        "colab": {
          "base_uri": "https://localhost:8080/",
          "height": 195
        }
      },
      "source": [
        "df['first_word'] = [x .split(' ', 1)[0] for x in df['question_text']]\n",
        "df.head()"
      ],
      "execution_count": 6,
      "outputs": [
        {
          "output_type": "execute_result",
          "data": {
            "text/html": [
              "<div>\n",
              "<style scoped>\n",
              "    .dataframe tbody tr th:only-of-type {\n",
              "        vertical-align: middle;\n",
              "    }\n",
              "\n",
              "    .dataframe tbody tr th {\n",
              "        vertical-align: top;\n",
              "    }\n",
              "\n",
              "    .dataframe thead th {\n",
              "        text-align: right;\n",
              "    }\n",
              "</style>\n",
              "<table border=\"1\" class=\"dataframe\">\n",
              "  <thead>\n",
              "    <tr style=\"text-align: right;\">\n",
              "      <th></th>\n",
              "      <th>qid</th>\n",
              "      <th>question_text</th>\n",
              "      <th>target</th>\n",
              "      <th>first_word</th>\n",
              "    </tr>\n",
              "  </thead>\n",
              "  <tbody>\n",
              "    <tr>\n",
              "      <th>0</th>\n",
              "      <td>4.67916E+17</td>\n",
              "      <td>What are some tips for converting seconds sinc...</td>\n",
              "      <td>0</td>\n",
              "      <td>What</td>\n",
              "    </tr>\n",
              "    <tr>\n",
              "      <th>1</th>\n",
              "      <td>5.32726E+17</td>\n",
              "      <td>Why does my most upvoted answer not appear on ...</td>\n",
              "      <td>0</td>\n",
              "      <td>Why</td>\n",
              "    </tr>\n",
              "    <tr>\n",
              "      <th>2</th>\n",
              "      <td>6.00031E+17</td>\n",
              "      <td>Which one ia better career option icwai with l...</td>\n",
              "      <td>0</td>\n",
              "      <td>Which</td>\n",
              "    </tr>\n",
              "    <tr>\n",
              "      <th>3</th>\n",
              "      <td>6.94202E+17</td>\n",
              "      <td>What macro-molecules would ATP be used in its ...</td>\n",
              "      <td>0</td>\n",
              "      <td>What</td>\n",
              "    </tr>\n",
              "    <tr>\n",
              "      <th>4</th>\n",
              "      <td>1.08073E+18</td>\n",
              "      <td>What does \"he has a magic range of about 100 m...</td>\n",
              "      <td>0</td>\n",
              "      <td>What</td>\n",
              "    </tr>\n",
              "  </tbody>\n",
              "</table>\n",
              "</div>"
            ],
            "text/plain": [
              "           qid  ... first_word\n",
              "0  4.67916E+17  ...       What\n",
              "1  5.32726E+17  ...        Why\n",
              "2  6.00031E+17  ...      Which\n",
              "3  6.94202E+17  ...       What\n",
              "4  1.08073E+18  ...       What\n",
              "\n",
              "[5 rows x 4 columns]"
            ]
          },
          "metadata": {
            "tags": []
          },
          "execution_count": 6
        }
      ]
    },
    {
      "cell_type": "markdown",
      "metadata": {
        "id": "ZWkPWtb1REFU",
        "colab_type": "text"
      },
      "source": [
        "#View most common question types"
      ]
    },
    {
      "cell_type": "code",
      "metadata": {
        "id": "A2L3IsGnRQJ3",
        "colab_type": "code",
        "outputId": "166fee0e-3925-4c16-891e-633e4a57e867",
        "colab": {
          "base_uri": "https://localhost:8080/",
          "height": 621
        }
      },
      "source": [
        "most_common_words = pd.DataFrame(df['first_word'].value_counts()[:10])\n",
        "most_common_words = most_common_words.reset_index()\n",
        "\n",
        "plt.figure(figsize = (10, 10))\n",
        "sns.barplot(x = most_common_words['index'], y = most_common_words['first_word'])\n",
        "plt.title('Most common question types')\n",
        "plt.show()"
      ],
      "execution_count": 7,
      "outputs": [
        {
          "output_type": "display_data",
          "data": {
            "image/png": "[encoded data removed]",
            "text/plain": [
              "<Figure size 720x720 with 1 Axes>"
            ]
          },
          "metadata": {
            "tags": [],
            "needs_background": "light"
          }
        }
      ]
    },
    {
      "cell_type": "markdown",
      "metadata": {
        "id": "W9XeTQHxRdEK",
        "colab_type": "text"
      },
      "source": [
        "#View average and max question length"
      ]
    },
    {
      "cell_type": "code",
      "metadata": {
        "id": "lPQ_Pc4QWSiB",
        "colab_type": "code",
        "outputId": "02311a78-7ff7-4d32-a9aa-16899480a059",
        "colab": {
          "base_uri": "https://localhost:8080/",
          "height": 67
        }
      },
      "source": [
        "df['question_text'] = df['question_text'].astype(str)\n",
        "df['question_words'] = [q.split(' ') for q in df['question_text']]\n",
        "df['question_length'] = [len(x) for x in df['question_words']]\n",
        "\n",
        "print('The maximum question length is {}.'.format(df['question_length'].max()))\n",
        "print('The average question length is {}.'.format(round(df['question_length'].mean(), 0)))\n",
        "print('The minimum question length is {}.'.format(df['question_length'].min()))"
      ],
      "execution_count": 8,
      "outputs": [
        {
          "output_type": "stream",
          "text": [
            "The maximum question length is 65.\n",
            "The average question length is 14.0.\n",
            "The minimum question length is 1.\n"
          ],
          "name": "stdout"
        }
      ]
    },
    {
      "cell_type": "markdown",
      "metadata": {
        "id": "yM2zHGzJZ-mk",
        "colab_type": "text"
      },
      "source": [
        "#Define function to build vocabulary"
      ]
    },
    {
      "cell_type": "code",
      "metadata": {
        "id": "-SvVRdsGq_HY",
        "colab_type": "code",
        "colab": {}
      },
      "source": [
        "def build_vocab(sentences, verbose =  True):\n",
        "    \"\"\"\n",
        "    :param sentences: list of list of words\n",
        "    :return: dictionary of words and their count\n",
        "    \"\"\"\n",
        "    vocab = {}\n",
        "    for sentence in tqdm(sentences, disable = (not verbose)):\n",
        "        for word in sentence:\n",
        "            try:\n",
        "                vocab[word] += 1\n",
        "            except KeyError:\n",
        "                vocab[word] = 1\n",
        "    return vocab"
      ],
      "execution_count": 0,
      "outputs": []
    },
    {
      "cell_type": "markdown",
      "metadata": {
        "id": "r4GJQzUYrAQr",
        "colab_type": "text"
      },
      "source": [
        "#Build vocab and view first five words"
      ]
    },
    {
      "cell_type": "code",
      "metadata": {
        "id": "UrL2zzSyrHhg",
        "colab_type": "code",
        "outputId": "660bf511-76b2-4fab-c946-1dc12fde00be",
        "colab": {
          "base_uri": "https://localhost:8080/",
          "height": 50
        }
      },
      "source": [
        "sentences = df[\"question_text\"].apply(lambda x: x.split()).values\n",
        "vocab = build_vocab(sentences)\n",
        "print({k: vocab[k] for k in list(vocab)[:5]})"
      ],
      "execution_count": 10,
      "outputs": [
        {
          "output_type": "stream",
          "text": [
            "100%|██████████| 187105/187105 [00:00<00:00, 230961.35it/s]"
          ],
          "name": "stderr"
        },
        {
          "output_type": "stream",
          "text": [
            "{'What': 45953, 'are': 34098, 'some': 6689, 'tips': 370, 'for': 27492}\n"
          ],
          "name": "stdout"
        },
        {
          "output_type": "stream",
          "text": [
            "\n"
          ],
          "name": "stderr"
        }
      ]
    },
    {
      "cell_type": "markdown",
      "metadata": {
        "id": "I6JcfVqDrK8U",
        "colab_type": "text"
      },
      "source": [
        "#Use GoogleNews Word embeddings to use in model"
      ]
    },
    {
      "cell_type": "code",
      "metadata": {
        "id": "Z0LLKwpksxE4",
        "colab_type": "code",
        "colab": {}
      },
      "source": [
        "news_path = '/content/drive/My Drive/GoogleNews-vectors-negative300.bin'\n",
        "embeddings_index = KeyedVectors.load_word2vec_format(news_path, binary=True)"
      ],
      "execution_count": 0,
      "outputs": []
    },
    {
      "cell_type": "markdown",
      "metadata": {
        "id": "qGcXCJuLB7ht",
        "colab_type": "text"
      },
      "source": [
        "#Deine function to compare words in vocab and embeddings and output oov words"
      ]
    },
    {
      "cell_type": "code",
      "metadata": {
        "id": "d3CuAoLQEZM2",
        "colab_type": "code",
        "outputId": "377fb47c-8122-42af-e579-2131adccd77a",
        "colab": {
          "base_uri": "https://localhost:8080/",
          "height": 67
        }
      },
      "source": [
        "def check_coverage(vocab,embeddings_index):\n",
        "    a = {}\n",
        "    oov = {}\n",
        "    k = 0\n",
        "    i = 0\n",
        "    for word in tqdm(vocab):\n",
        "        try:\n",
        "            a[word] = embeddings_index[word]\n",
        "            k += vocab[word]\n",
        "        except:\n",
        "\n",
        "            oov[word] = vocab[word]\n",
        "            i += vocab[word]\n",
        "            pass\n",
        "\n",
        "    print('Found embeddings for {:.2%} of vocab'.format(len(a) / len(vocab)))\n",
        "    print('Found embeddings for  {:.2%} of all text'.format(k / (k + i)))\n",
        "    sorted_x = sorted(oov.items(), key=operator.itemgetter(1))[::-1]\n",
        "\n",
        "    return sorted_x\n",
        "\n",
        "oov = check_coverage(vocab,embeddings_index)"
      ],
      "execution_count": 12,
      "outputs": [
        {
          "output_type": "stream",
          "text": [
            "100%|██████████| 152923/152923 [00:00<00:00, 312027.32it/s]\n"
          ],
          "name": "stderr"
        },
        {
          "output_type": "stream",
          "text": [
            "Found embeddings for 36.25% of vocab\n",
            "Found embeddings for  78.93% of all text\n"
          ],
          "name": "stdout"
        }
      ]
    },
    {
      "cell_type": "markdown",
      "metadata": {
        "id": "Vtr-80pXEduo",
        "colab_type": "text"
      },
      "source": [
        "#Look at top words not in embeddings"
      ]
    },
    {
      "cell_type": "code",
      "metadata": {
        "id": "Q6L2ScGYEqab",
        "colab_type": "code",
        "outputId": "5553f4ca-27cd-4052-be8c-0a4d52b6e9ac",
        "colab": {
          "base_uri": "https://localhost:8080/",
          "height": 185
        }
      },
      "source": [
        "oov[:10]"
      ],
      "execution_count": 13,
      "outputs": [
        {
          "output_type": "execute_result",
          "data": {
            "text/plain": [
              "[('to', 64747),\n",
              " ('a', 58714),\n",
              " ('of', 50369),\n",
              " ('and', 44744),\n",
              " ('India?', 2230),\n",
              " ('it?', 1944),\n",
              " ('people?', 1386),\n",
              " ('them?', 1332),\n",
              " ('do?', 1130),\n",
              " ('world?', 1034)]"
            ]
          },
          "metadata": {
            "tags": []
          },
          "execution_count": 13
        }
      ]
    },
    {
      "cell_type": "markdown",
      "metadata": {
        "id": "-JtDbGJXEq5y",
        "colab_type": "text"
      },
      "source": [
        "#Check for certain punctuations in embeddings"
      ]
    },
    {
      "cell_type": "code",
      "metadata": {
        "id": "nWDqdPYyFELC",
        "colab_type": "code",
        "outputId": "081c46c5-ed9d-40de-9ebd-8358318a963e",
        "colab": {
          "base_uri": "https://localhost:8080/",
          "height": 50
        }
      },
      "source": [
        "print('?' in embeddings_index)\n",
        "print('&' in embeddings_index)"
      ],
      "execution_count": 14,
      "outputs": [
        {
          "output_type": "stream",
          "text": [
            "False\n",
            "True\n"
          ],
          "name": "stdout"
        }
      ]
    },
    {
      "cell_type": "markdown",
      "metadata": {
        "id": "ygkketiEFJos",
        "colab_type": "text"
      },
      "source": [
        "#Define function to remove punctuations in vocab which are not in embeddings"
      ]
    },
    {
      "cell_type": "code",
      "metadata": {
        "id": "UBT0gKlQFY5G",
        "colab_type": "code",
        "colab": {}
      },
      "source": [
        "def clean_text(x):\n",
        "\n",
        "    x = str(x)\n",
        "    for punct in \"/-'\":\n",
        "        x = x.replace(punct, ' ')\n",
        "    for punct in '&':\n",
        "        x = x.replace(punct, f' {punct} ')\n",
        "    for punct in '?!.,\"#$%\\'()*+-/:;<=>@[\\\\]^_`{|}~' + '“”’':\n",
        "        x = x.replace(punct, '')\n",
        "    return x"
      ],
      "execution_count": 0,
      "outputs": []
    },
    {
      "cell_type": "markdown",
      "metadata": {
        "id": "rGyTb1kPFdO0",
        "colab_type": "text"
      },
      "source": [
        "#Apply clean_text function on questions"
      ]
    },
    {
      "cell_type": "code",
      "metadata": {
        "id": "gm1qhY6pFjDm",
        "colab_type": "code",
        "outputId": "50a2b3ea-3c89-4881-9f77-1a6103b9e452",
        "colab": {
          "base_uri": "https://localhost:8080/",
          "height": 34
        }
      },
      "source": [
        "df[\"question_text\"] = df[\"question_text\"].apply(lambda x: clean_text(x))\n",
        "sentences = df[\"question_text\"].apply(lambda x: x.split())\n",
        "vocab = build_vocab(sentences)"
      ],
      "execution_count": 16,
      "outputs": [
        {
          "output_type": "stream",
          "text": [
            "100%|██████████| 187105/187105 [00:00<00:00, 237030.28it/s]\n"
          ],
          "name": "stderr"
        }
      ]
    },
    {
      "cell_type": "markdown",
      "metadata": {
        "id": "-5DHLbIxFnhb",
        "colab_type": "text"
      },
      "source": [
        "#Check for match between vocab and embedding after removing punctuation"
      ]
    },
    {
      "cell_type": "code",
      "metadata": {
        "id": "5kLceLA-F4SP",
        "colab_type": "code",
        "outputId": "c5830427-f397-4ec4-e023-2d22c8aee466",
        "colab": {
          "base_uri": "https://localhost:8080/",
          "height": 67
        }
      },
      "source": [
        "oov = check_coverage(vocab,embeddings_index)"
      ],
      "execution_count": 17,
      "outputs": [
        {
          "output_type": "stream",
          "text": [
            "100%|██████████| 84511/84511 [00:00<00:00, 257230.62it/s]"
          ],
          "name": "stderr"
        },
        {
          "output_type": "stream",
          "text": [
            "Found embeddings for 77.22% of vocab\n",
            "Found embeddings for  90.28% of all text\n"
          ],
          "name": "stdout"
        },
        {
          "output_type": "stream",
          "text": [
            "\n"
          ],
          "name": "stderr"
        }
      ]
    },
    {
      "cell_type": "markdown",
      "metadata": {
        "id": "-9zct2zuF40T",
        "colab_type": "text"
      },
      "source": [
        "#Look at top words not in embeddings"
      ]
    },
    {
      "cell_type": "code",
      "metadata": {
        "id": "4g637YfHGE35",
        "colab_type": "code",
        "outputId": "8f28580b-9584-4979-9ee0-299fc1ce676f",
        "colab": {
          "base_uri": "https://localhost:8080/",
          "height": 185
        }
      },
      "source": [
        "oov[:10]"
      ],
      "execution_count": 18,
      "outputs": [
        {
          "output_type": "execute_result",
          "data": {
            "text/plain": [
              "[('to', 65221),\n",
              " ('a', 58885),\n",
              " ('of', 50668),\n",
              " ('and', 45114),\n",
              " ('2018', 885),\n",
              " ('2017', 839),\n",
              " ('10', 816),\n",
              " ('12', 535),\n",
              " ('15', 461),\n",
              " ('11', 412)]"
            ]
          },
          "metadata": {
            "tags": []
          },
          "execution_count": 18
        }
      ]
    },
    {
      "cell_type": "markdown",
      "metadata": {
        "id": "FrPm0NSSGFI2",
        "colab_type": "text"
      },
      "source": [
        "#Numbers greater than 9 are represented by hashes in the embeddings"
      ]
    },
    {
      "cell_type": "code",
      "metadata": {
        "id": "VHnvkRG2GLZj",
        "colab_type": "code",
        "outputId": "417e598c-6bb0-4677-a78d-84d48612633a",
        "colab": {
          "base_uri": "https://localhost:8080/",
          "height": 185
        }
      },
      "source": [
        "for i in range(10):\n",
        "    print(embeddings_index.index2entity[i])"
      ],
      "execution_count": 19,
      "outputs": [
        {
          "output_type": "stream",
          "text": [
            "</s>\n",
            "in\n",
            "for\n",
            "that\n",
            "is\n",
            "on\n",
            "##\n",
            "The\n",
            "with\n",
            "said\n"
          ],
          "name": "stdout"
        }
      ]
    },
    {
      "cell_type": "markdown",
      "metadata": {
        "id": "8Em5es2bGTRp",
        "colab_type": "text"
      },
      "source": [
        "#Replace numbers greater than 9 in vocab with hashes"
      ]
    },
    {
      "cell_type": "code",
      "metadata": {
        "id": "s4q_7tzdGbKY",
        "colab_type": "code",
        "colab": {}
      },
      "source": [
        "def clean_numbers(x):\n",
        "\n",
        "    x = re.sub('[0-9]{5,}', '#####', x)\n",
        "    x = re.sub('[0-9]{4}', '####', x)\n",
        "    x = re.sub('[0-9]{3}', '###', x)\n",
        "    x = re.sub('[0-9]{2}', '##', x)\n",
        "    return x"
      ],
      "execution_count": 0,
      "outputs": []
    },
    {
      "cell_type": "markdown",
      "metadata": {
        "id": "ow1iMoFLGjV5",
        "colab_type": "text"
      },
      "source": [
        "#Check for match between vocab and embedding after removing punctuation and numbers"
      ]
    },
    {
      "cell_type": "code",
      "metadata": {
        "id": "Ftuw-eMGGrYe",
        "colab_type": "code",
        "outputId": "1c78e48f-d14b-4ce8-d524-f14de1b4afbf",
        "colab": {
          "base_uri": "https://localhost:8080/",
          "height": 84
        }
      },
      "source": [
        "df[\"question_text\"] = df[\"question_text\"].apply(lambda x: clean_numbers(x))\n",
        "sentences = df[\"question_text\"].apply(lambda x: x.split())\n",
        "vocab = build_vocab(sentences)\n",
        "\n",
        "oov = check_coverage(vocab,embeddings_index)"
      ],
      "execution_count": 21,
      "outputs": [
        {
          "output_type": "stream",
          "text": [
            "100%|██████████| 187105/187105 [00:00<00:00, 242741.87it/s]\n",
            "100%|██████████| 82362/82362 [00:00<00:00, 288744.45it/s]"
          ],
          "name": "stderr"
        },
        {
          "output_type": "stream",
          "text": [
            "Found embeddings for 79.74% of vocab\n",
            "Found embeddings for  90.91% of all text\n"
          ],
          "name": "stdout"
        },
        {
          "output_type": "stream",
          "text": [
            "\n"
          ],
          "name": "stderr"
        }
      ]
    },
    {
      "cell_type": "markdown",
      "metadata": {
        "id": "6B4wpi6AG00H",
        "colab_type": "text"
      },
      "source": [
        "#Check top words out of vocab not in embeddings"
      ]
    },
    {
      "cell_type": "code",
      "metadata": {
        "id": "6SSkHYtEHAIG",
        "colab_type": "code",
        "outputId": "cf1cd378-5e58-4726-ccd4-50d05ced8c19",
        "colab": {
          "base_uri": "https://localhost:8080/",
          "height": 353
        }
      },
      "source": [
        "oov[:20]"
      ],
      "execution_count": 22,
      "outputs": [
        {
          "output_type": "execute_result",
          "data": {
            "text/plain": [
              "[('to', 65221),\n",
              " ('a', 58885),\n",
              " ('of', 50668),\n",
              " ('and', 45114),\n",
              " ('Quorans', 242),\n",
              " ('doesnt', 214),\n",
              " ('didnt', 143),\n",
              " ('realise', 138),\n",
              " ('isnt', 137),\n",
              " ('colour', 129),\n",
              " ('favourite', 125),\n",
              " ('Brexit', 119),\n",
              " ('centre', 106),\n",
              " ('bitcoin', 100),\n",
              " ('Isnt', 93),\n",
              " ('travelling', 86),\n",
              " ('behaviour', 86),\n",
              " ('Snapchat', 83),\n",
              " ('upvotes', 73),\n",
              " ('cryptocurrency', 68)]"
            ]
          },
          "metadata": {
            "tags": []
          },
          "execution_count": 22
        }
      ]
    },
    {
      "cell_type": "markdown",
      "metadata": {
        "id": "43uMpyY9HCIY",
        "colab_type": "text"
      },
      "source": [
        "#Remove common social media terms and replace with 'social medium', remove common stopwords like to, a, of etc"
      ]
    },
    {
      "cell_type": "code",
      "metadata": {
        "id": "1gHmqStGHTxq",
        "colab_type": "code",
        "outputId": "97245834-736a-482a-d83b-2626c718c712",
        "colab": {
          "base_uri": "https://localhost:8080/",
          "height": 50
        }
      },
      "source": [
        "def _get_mispell(mispell_dict):\n",
        "    mispell_re = re.compile('(%s)' % '|'.join(mispell_dict.keys()))\n",
        "    return mispell_dict, mispell_re\n",
        "\n",
        "\n",
        "mispell_dict = {'colour':'color',\n",
        "                'centre':'center',\n",
        "                'didnt':'did not',\n",
        "                'doesnt':'does not',\n",
        "                'isnt':'is not',\n",
        "                'shouldnt':'should not',\n",
        "                'favourite':'favorite',\n",
        "                'travelling':'traveling',\n",
        "                'counselling':'counseling',\n",
        "                'theatre':'theater',\n",
        "                'cancelled':'canceled',\n",
        "                'labour':'labor',\n",
        "                'organisation':'organization',\n",
        "                'wwii':'world war 2',\n",
        "                'citicise':'criticize',\n",
        "                'instagram': 'social medium',\n",
        "                'whatsapp': 'social medium',\n",
        "                'snapchat': 'social medium'\n",
        "\n",
        "                }\n",
        "mispellings, mispellings_re = _get_mispell(mispell_dict)\n",
        "\n",
        "def replace_typical_misspell(text):\n",
        "    def replace(match):\n",
        "        return mispellings[match.group(0)]\n",
        "\n",
        "    return mispellings_re.sub(replace, text)\n",
        "\n",
        "df[\"question_text\"] = df[\"question_text\"].apply(lambda x: replace_typical_misspell(x))\n",
        "sentences = df[\"question_text\"].apply(lambda x: x.split())\n",
        "to_remove = ['a','to','of','and']\n",
        "sentences = [[word for word in sentence if not word in to_remove] for sentence in tqdm(sentences)]\n",
        "vocab = build_vocab(sentences)"
      ],
      "execution_count": 23,
      "outputs": [
        {
          "output_type": "stream",
          "text": [
            "100%|██████████| 187105/187105 [00:00<00:00, 371990.81it/s]\n",
            "100%|██████████| 187105/187105 [00:00<00:00, 253881.04it/s]\n"
          ],
          "name": "stderr"
        }
      ]
    },
    {
      "cell_type": "markdown",
      "metadata": {
        "id": "gehPu5mMHsLW",
        "colab_type": "text"
      },
      "source": [
        "#Check for match between oov and embeddings_index"
      ]
    },
    {
      "cell_type": "code",
      "metadata": {
        "id": "JeEK7GZJHm84",
        "colab_type": "code",
        "outputId": "56ab0b98-94b2-4e1a-9ebb-37ef10fb226a",
        "colab": {
          "base_uri": "https://localhost:8080/",
          "height": 67
        }
      },
      "source": [
        "oov = check_coverage(vocab,embeddings_index)"
      ],
      "execution_count": 24,
      "outputs": [
        {
          "output_type": "stream",
          "text": [
            "100%|██████████| 82331/82331 [00:00<00:00, 276827.92it/s]\n"
          ],
          "name": "stderr"
        },
        {
          "output_type": "stream",
          "text": [
            "Found embeddings for 79.77% of vocab\n",
            "Found embeddings for  99.08% of all text\n"
          ],
          "name": "stdout"
        }
      ]
    },
    {
      "cell_type": "markdown",
      "metadata": {
        "id": "4FeLuzmQHwzX",
        "colab_type": "text"
      },
      "source": [
        "#Define X and Y"
      ]
    },
    {
      "cell_type": "code",
      "metadata": {
        "id": "qqLOnr8dIS76",
        "colab_type": "code",
        "colab": {}
      },
      "source": [
        "X = df['question_text'].astype(str)\n",
        "y = df['target']"
      ],
      "execution_count": 0,
      "outputs": []
    },
    {
      "cell_type": "markdown",
      "metadata": {
        "id": "HheuX_TqIiCk",
        "colab_type": "text"
      },
      "source": [
        "#Split data into training and validation"
      ]
    },
    {
      "cell_type": "code",
      "metadata": {
        "id": "IIxSTm_sInpF",
        "colab_type": "code",
        "colab": {}
      },
      "source": [
        "X_train, X_validation, y_train, y_validation = tts(X, y, test_size = 0.2, random_state = 42, stratify = y, shuffle = True)"
      ],
      "execution_count": 0,
      "outputs": []
    },
    {
      "cell_type": "markdown",
      "metadata": {
        "id": "69Ll8hiYJP1y",
        "colab_type": "text"
      },
      "source": [
        "#Define parameters to use in model"
      ]
    },
    {
      "cell_type": "code",
      "metadata": {
        "id": "VQ-ZoZENJP50",
        "colab_type": "code",
        "colab": {}
      },
      "source": [
        "vocab_size = len(vocab)\n",
        "embedding_dim = 300\n",
        "trunc_type='post'\n",
        "oov_tok = \"<OOV>\"\n",
        "max_length = len(df['question_words'].max())\n",
        "max_nb_words = 200000"
      ],
      "execution_count": 0,
      "outputs": []
    },
    {
      "cell_type": "code",
      "metadata": {
        "id": "q7ZwbWm1JBH1",
        "colab_type": "code",
        "colab": {}
      },
      "source": [
        "#Tokenize X_train\n",
        "tokenizer = Tokenizer(oov_token=oov_tok, num_words=vocab_size)\n",
        "tokenizer.fit_on_texts(X_train.values)\n",
        "word_index = tokenizer.word_index\n",
        "\n",
        "#Convert tweets to sequences\n",
        "X_train = tokenizer.texts_to_sequences(X_train)\n",
        "X_validation = tokenizer.texts_to_sequences(X_validation)\n",
        "\n",
        "#Pad train sequences\n",
        "X_train = pad_sequences(X_train, max_length, truncating=trunc_type, padding = 'post')\n",
        "X_validation = pad_sequences(X_validation, max_length, truncating=trunc_type, padding = 'post')"
      ],
      "execution_count": 0,
      "outputs": []
    },
    {
      "cell_type": "code",
      "metadata": {
        "id": "RnnVRXZ4Jw5K",
        "colab_type": "code",
        "outputId": "c8669246-3e4d-4fe8-c5a1-fecf0d16c9d1",
        "colab": {
          "base_uri": "https://localhost:8080/",
          "height": 50
        }
      },
      "source": [
        "#View shape of X_train and X_test\n",
        "print(X_train.shape)\n",
        "print(X_validation.shape)"
      ],
      "execution_count": 29,
      "outputs": [
        {
          "output_type": "stream",
          "text": [
            "(149684, 21)\n",
            "(37421, 21)\n"
          ],
          "name": "stdout"
        }
      ]
    },
    {
      "cell_type": "code",
      "metadata": {
        "id": "ifPmVAasNUSb",
        "colab_type": "code",
        "outputId": "7f43c504-50e4-43a9-aea8-6b305a86b072",
        "colab": {
          "base_uri": "https://localhost:8080/",
          "height": 50
        }
      },
      "source": [
        "#Prepare embedding matrix\n",
        "print('Preparing embedding matrix')\n",
        "\n",
        "nb_words = min(max_nb_words, len(word_index))+1\n",
        "\n",
        "embedding_matrix = np.zeros((nb_words, embedding_dim))\n",
        "for word, i in word_index.items():\n",
        "    if word in embeddings_index.vocab:\n",
        "        embedding_matrix[i] = embeddings_index.word_vec(word)\n",
        "print('Null word embeddings: %d' % np.sum(np.sum(embedding_matrix, axis=1) == 0))"
      ],
      "execution_count": 30,
      "outputs": [
        {
          "output_type": "stream",
          "text": [
            "Preparing embedding matrix\n",
            "Null word embeddings: 21476\n"
          ],
          "name": "stdout"
        }
      ]
    },
    {
      "cell_type": "code",
      "metadata": {
        "id": "GERRhTu9LPSC",
        "colab_type": "code",
        "colab": {}
      },
      "source": [
        "#Build Model architecture\n",
        "model = Sequential([\n",
        "    Embedding(nb_words, embedding_dim, input_length = max_length, weights = [embedding_matrix], trainable = False),\n",
        "    tf.keras.layers.Bidirectional(LSTM(128, dropout= 0.2, return_sequences=True)),\n",
        "    tf.keras.layers.BatchNormalization(),\n",
        "    tf.keras.layers.Bidirectional(LSTM(64, dropout= 0.2)),\n",
        "    tf.keras.layers.BatchNormalization(),\n",
        "    tf.keras.layers.Dense(10, activation = 'relu'),\n",
        "    tf.keras.layers.Dropout(0.2),\n",
        "    tf.keras.layers.Dense(1, activation = 'sigmoid')\n",
        "])\n",
        "\n",
        "model.compile(optimizer = 'adam', loss = 'binary_crossentropy', metrics = ['accuracy'])"
      ],
      "execution_count": 0,
      "outputs": []
    },
    {
      "cell_type": "code",
      "metadata": {
        "id": "QuIFx0B_OZgg",
        "colab_type": "code",
        "outputId": "a203da9c-196d-4016-e4c0-834cd8e86e48",
        "colab": {
          "base_uri": "https://localhost:8080/",
          "height": 470
        }
      },
      "source": [
        "#View model summary\n",
        "print(model.summary())"
      ],
      "execution_count": 32,
      "outputs": [
        {
          "output_type": "stream",
          "text": [
            "Model: \"sequential\"\n",
            "_________________________________________________________________\n",
            "Layer (type)                 Output Shape              Param #   \n",
            "=================================================================\n",
            "embedding (Embedding)        (None, 21, 300)           18595500  \n",
            "_________________________________________________________________\n",
            "batch_normalization (BatchNo (None, 21, 300)           1200      \n",
            "_________________________________________________________________\n",
            "bidirectional (Bidirectional (None, 21, 256)           439296    \n",
            "_________________________________________________________________\n",
            "batch_normalization_1 (Batch (None, 21, 256)           1024      \n",
            "_________________________________________________________________\n",
            "bidirectional_1 (Bidirection (None, 128)               164352    \n",
            "_________________________________________________________________\n",
            "batch_normalization_2 (Batch (None, 128)               512       \n",
            "_________________________________________________________________\n",
            "dense (Dense)                (None, 10)                1290      \n",
            "_________________________________________________________________\n",
            "dropout (Dropout)            (None, 10)                0         \n",
            "_________________________________________________________________\n",
            "dense_1 (Dense)              (None, 1)                 11        \n",
            "=================================================================\n",
            "Total params: 19,203,185\n",
            "Trainable params: 606,317\n",
            "Non-trainable params: 18,596,868\n",
            "_________________________________________________________________\n",
            "None\n"
          ],
          "name": "stdout"
        }
      ]
    },
    {
      "cell_type": "code",
      "metadata": {
        "id": "9vSzeLYaOhXZ",
        "colab_type": "code",
        "outputId": "ad0481f0-0553-4e15-896d-dbe0b210550d",
        "colab": {
          "base_uri": "https://localhost:8080/",
          "height": 689
        }
      },
      "source": [
        "#Fit model on X_train, y_train\n",
        "history = model.fit(X_train, y_train, epochs=20, validation_data=(X_validation, y_validation), verbose=2, batch_size = 32)"
      ],
      "execution_count": 33,
      "outputs": [
        {
          "output_type": "stream",
          "text": [
            "Epoch 1/20\n",
            "4678/4678 - 153s - loss: 0.3183 - accuracy: 0.8743 - val_loss: 0.2836 - val_accuracy: 0.8862\n",
            "Epoch 2/20\n",
            "4678/4678 - 152s - loss: 0.2770 - accuracy: 0.8935 - val_loss: 0.2648 - val_accuracy: 0.8958\n",
            "Epoch 3/20\n",
            "4678/4678 - 152s - loss: 0.2571 - accuracy: 0.9003 - val_loss: 0.2616 - val_accuracy: 0.8979\n",
            "Epoch 4/20\n",
            "4678/4678 - 152s - loss: 0.2445 - accuracy: 0.9057 - val_loss: 0.2566 - val_accuracy: 0.8991\n",
            "Epoch 5/20\n",
            "4678/4678 - 152s - loss: 0.2363 - accuracy: 0.9084 - val_loss: 0.2623 - val_accuracy: 0.8948\n",
            "Epoch 6/20\n",
            "4678/4678 - 153s - loss: 0.2258 - accuracy: 0.9129 - val_loss: 0.2597 - val_accuracy: 0.8981\n",
            "Epoch 7/20\n",
            "4678/4678 - 152s - loss: 0.2213 - accuracy: 0.9143 - val_loss: 0.2660 - val_accuracy: 0.8987\n",
            "Epoch 8/20\n",
            "4678/4678 - 153s - loss: 0.2153 - accuracy: 0.9165 - val_loss: 0.2656 - val_accuracy: 0.8961\n",
            "Epoch 9/20\n",
            "4678/4678 - 153s - loss: 0.2127 - accuracy: 0.9178 - val_loss: 0.2679 - val_accuracy: 0.8980\n",
            "Epoch 10/20\n",
            "4678/4678 - 153s - loss: 0.2069 - accuracy: 0.9208 - val_loss: 0.2755 - val_accuracy: 0.8932\n",
            "Epoch 11/20\n",
            "4678/4678 - 153s - loss: 0.2042 - accuracy: 0.9212 - val_loss: 0.2864 - val_accuracy: 0.8973\n",
            "Epoch 12/20\n",
            "4678/4678 - 153s - loss: 0.1996 - accuracy: 0.9238 - val_loss: 0.2811 - val_accuracy: 0.8980\n",
            "Epoch 13/20\n",
            "4678/4678 - 153s - loss: 0.1965 - accuracy: 0.9248 - val_loss: 0.2874 - val_accuracy: 0.8947\n",
            "Epoch 14/20\n",
            "4678/4678 - 153s - loss: 0.1946 - accuracy: 0.9246 - val_loss: 0.2917 - val_accuracy: 0.8937\n",
            "Epoch 15/20\n",
            "4678/4678 - 153s - loss: 0.1917 - accuracy: 0.9262 - val_loss: 0.2906 - val_accuracy: 0.8929\n",
            "Epoch 16/20\n",
            "4678/4678 - 153s - loss: 0.1900 - accuracy: 0.9267 - val_loss: 0.2791 - val_accuracy: 0.8933\n",
            "Epoch 17/20\n",
            "4678/4678 - 153s - loss: 0.1857 - accuracy: 0.9280 - val_loss: 0.3004 - val_accuracy: 0.8963\n",
            "Epoch 18/20\n",
            "4678/4678 - 153s - loss: 0.1849 - accuracy: 0.9290 - val_loss: 0.2986 - val_accuracy: 0.8944\n",
            "Epoch 19/20\n",
            "4678/4678 - 153s - loss: 0.1837 - accuracy: 0.9297 - val_loss: 0.2966 - val_accuracy: 0.8951\n",
            "Epoch 20/20\n",
            "4678/4678 - 153s - loss: 0.1819 - accuracy: 0.9299 - val_loss: 0.3048 - val_accuracy: 0.8969\n"
          ],
          "name": "stdout"
        }
      ]
    },
    {
      "cell_type": "code",
      "metadata": {
        "id": "dvuMG-AnOrFa",
        "colab_type": "code",
        "colab": {
          "base_uri": "https://localhost:8080/",
          "height": 541
        },
        "outputId": "14f5ec7d-de3b-4aba-dc64-939e74167911"
      },
      "source": [
        "#Define function to plot graph of accuracy and loss\n",
        "def plot_graphs(history, string):\n",
        "  plt.plot(history.history[string])\n",
        "  plt.plot(history.history['val_'+string])\n",
        "  plt.xlabel(\"Epochs\")\n",
        "  plt.ylabel(string)\n",
        "  plt.legend([string, 'val_'+string])\n",
        "  plt.show()\n",
        "\n",
        "plot_graphs(history, 'accuracy')\n",
        "plot_graphs(history, 'loss')"
      ],
      "execution_count": 34,
      "outputs": [
        {
          "output_type": "display_data",
          "data": {
            "image/png": "[encoded data removed]",
            "text/plain": [
              "<Figure size 432x288 with 1 Axes>"
            ]
          },
          "metadata": {
            "tags": [],
            "needs_background": "light"
          }
        },
        {
          "output_type": "display_data",
          "data": {
            "image/png": "[encoded data removed]",
            "text/plain": [
              "<Figure size 432x288 with 1 Axes>"
            ]
          },
          "metadata": {
            "tags": [],
            "needs_background": "light"
          }
        }
      ]
    },
    {
      "cell_type": "code",
      "metadata": {
        "id": "Mh74m_zqPeiD",
        "colab_type": "code",
        "colab": {
          "base_uri": "https://localhost:8080/",
          "height": 238
        },
        "outputId": "372a7fbb-b7f7-4747-ff99-b70f4a0cd5d8"
      },
      "source": [
        "#View classification report\n",
        "y_pred = model.predict_classes(X_validation)\n",
        "\n",
        "print(classification_report(y_validation, y_pred))"
      ],
      "execution_count": 35,
      "outputs": [
        {
          "output_type": "stream",
          "text": [
            "WARNING:tensorflow:From <ipython-input-35-611a1a8840da>:2: Sequential.predict_classes (from tensorflow.python.keras.engine.sequential) is deprecated and will be removed after 2021-01-01.\n",
            "Instructions for updating:\n",
            "Please use instead:* `np.argmax(model.predict(x), axis=-1)`,   if your model does multi-class classification   (e.g. if it uses a `softmax` last-layer activation).* `(model.predict(x) > 0.5).astype(\"int32\")`,   if your model does binary classification   (e.g. if it uses a `sigmoid` last-layer activation).\n",
            "              precision    recall  f1-score   support\n",
            "\n",
            "           0       0.93      0.91      0.92     24466\n",
            "           1       0.84      0.86      0.85     12955\n",
            "\n",
            "    accuracy                           0.90     37421\n",
            "   macro avg       0.88      0.89      0.89     37421\n",
            "weighted avg       0.90      0.90      0.90     37421\n",
            "\n"
          ],
          "name": "stdout"
        }
      ]
    },
    {
      "cell_type": "code",
      "metadata": {
        "id": "_4FTzYi0yPTC",
        "colab_type": "code",
        "colab": {}
      },
      "source": [
        ""
      ],
      "execution_count": 0,
      "outputs": []
    }
  ]
}